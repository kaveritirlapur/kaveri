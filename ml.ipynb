{
  "nbformat": 4,
  "nbformat_minor": 0,
  "metadata": {
    "colab": {
      "provenance": [],
      "mount_file_id": "13ktrMg-gNjq2U7PHjssvkhwr544XxBzT",
      "authorship_tag": "ABX9TyNoVY57MII2u5dj7rJwgJ9d",
      "include_colab_link": true
    },
    "kernelspec": {
      "name": "python3",
      "display_name": "Python 3"
    },
    "language_info": {
      "name": "python"
    }
  },
  "cells": [
    {
      "cell_type": "markdown",
      "metadata": {
        "id": "view-in-github",
        "colab_type": "text"
      },
      "source": [
        "<a href=\"https://colab.research.google.com/github/kaveritirlapur/kaveri/blob/main/ml.ipynb\" target=\"_parent\"><img src=\"https://colab.research.google.com/assets/colab-badge.svg\" alt=\"Open In Colab\"/></a>"
      ]
    },
    {
      "cell_type": "code",
      "execution_count": null,
      "metadata": {
        "id": "_C-txjGKWNHy"
      },
      "outputs": [],
      "source": []
    },
    {
      "cell_type": "markdown",
      "source": [
        "## ***my first program***"
      ],
      "metadata": {
        "id": "gjE-gsMUX4qt"
      }
    },
    {
      "cell_type": "code",
      "source": [
        "print(\" I am  kavya \")"
      ],
      "metadata": {
        "colab": {
          "base_uri": "https://localhost:8080/"
        },
        "id": "WjP1nU0iX-vX",
        "outputId": "e5ef68b9-9f92-4cb1-ebdd-8ccae405452a"
      },
      "execution_count": null,
      "outputs": [
        {
          "output_type": "stream",
          "name": "stdout",
          "text": [
            " I am  kavya \n"
          ]
        }
      ]
    },
    {
      "cell_type": "code",
      "source": [
        "a-b"
      ],
      "metadata": {
        "id": "2U4soX6PYh1P"
      },
      "execution_count": null,
      "outputs": []
    },
    {
      "cell_type": "code",
      "source": [],
      "metadata": {
        "id": "_JaPcDUggnw8"
      },
      "execution_count": null,
      "outputs": []
    },
    {
      "cell_type": "markdown",
      "source": [
        "## ***variable declaration***"
      ],
      "metadata": {
        "id": "oCku65xJZhWz"
      }
    },
    {
      "cell_type": "code",
      "source": [
        "a=4\n",
        "b=2\n",
        "substract=a-b\n",
        "print(substract)"
      ],
      "metadata": {
        "colab": {
          "base_uri": "https://localhost:8080/"
        },
        "id": "VBVZDnQHZ4hp",
        "outputId": "785becaf-0b8f-4982-aa55-6784c183e088"
      },
      "execution_count": null,
      "outputs": [
        {
          "output_type": "stream",
          "name": "stdout",
          "text": [
            "2\n"
          ]
        }
      ]
    },
    {
      "cell_type": "code",
      "source": [
        "a*b"
      ],
      "metadata": {
        "colab": {
          "base_uri": "https://localhost:8080/"
        },
        "id": "ZElT1nsgaZs1",
        "outputId": "d31a6667-3e71-4bb5-b913-aca03c8855a0"
      },
      "execution_count": null,
      "outputs": [
        {
          "output_type": "execute_result",
          "data": {
            "text/plain": [
              "8"
            ]
          },
          "metadata": {},
          "execution_count": 3
        }
      ]
    },
    {
      "cell_type": "code",
      "source": [
        "a+b"
      ],
      "metadata": {
        "colab": {
          "base_uri": "https://localhost:8080/"
        },
        "id": "KkdOq3JUa4z3",
        "outputId": "bc8f96b5-2cc2-4e75-b03b-48a7248fd7fe"
      },
      "execution_count": null,
      "outputs": [
        {
          "output_type": "execute_result",
          "data": {
            "text/plain": [
              "6"
            ]
          },
          "metadata": {},
          "execution_count": 4
        }
      ]
    },
    {
      "cell_type": "code",
      "source": [
        "a*b*b"
      ],
      "metadata": {
        "colab": {
          "base_uri": "https://localhost:8080/"
        },
        "id": "Hw-hkjb8ayhK",
        "outputId": "16212499-d28f-4076-8b0c-c435a5475f6f"
      },
      "execution_count": null,
      "outputs": [
        {
          "output_type": "execute_result",
          "data": {
            "text/plain": [
              "16"
            ]
          },
          "metadata": {},
          "execution_count": 5
        }
      ]
    },
    {
      "cell_type": "markdown",
      "source": [
        "***assignment***"
      ],
      "metadata": {
        "id": "1pseiBxKqLoi"
      }
    },
    {
      "cell_type": "markdown",
      "source": [
        "**substraction**"
      ],
      "metadata": {
        "id": "Ii6whxTAgeMO"
      }
    },
    {
      "cell_type": "code",
      "source": [
        "a=9\n",
        "b=5\n",
        "c=2\n",
        "substract=a-b-c\n",
        "print(substract)"
      ],
      "metadata": {
        "colab": {
          "base_uri": "https://localhost:8080/"
        },
        "id": "jsdZn2qNg_Wo",
        "outputId": "e67e11f4-d714-42c0-939e-a931680a845c"
      },
      "execution_count": null,
      "outputs": [
        {
          "output_type": "stream",
          "name": "stdout",
          "text": [
            "2\n"
          ]
        }
      ]
    },
    {
      "cell_type": "code",
      "source": [],
      "metadata": {
        "id": "Ut-x0YHuhRtP"
      },
      "execution_count": null,
      "outputs": []
    },
    {
      "cell_type": "code",
      "source": [
        "from os.path import samefile\n",
        "a=10\n",
        "b=4\n",
        "substract=a-b\n",
        "print(substract)"
      ],
      "metadata": {
        "colab": {
          "base_uri": "https://localhost:8080/"
        },
        "id": "SrLplavahV7p",
        "outputId": "da9cee6c-8db9-49b2-b7e7-4f149c6636f1"
      },
      "execution_count": null,
      "outputs": [
        {
          "output_type": "stream",
          "name": "stdout",
          "text": [
            "6\n"
          ]
        }
      ]
    },
    {
      "cell_type": "code",
      "source": [],
      "metadata": {
        "id": "of2br9w3hmIT"
      },
      "execution_count": null,
      "outputs": []
    },
    {
      "cell_type": "markdown",
      "source": [
        "**multiplication**"
      ],
      "metadata": {
        "id": "haoCDq8jhoKp"
      }
    },
    {
      "cell_type": "code",
      "source": [],
      "metadata": {
        "id": "dCJSGSrohwdi"
      },
      "execution_count": null,
      "outputs": []
    },
    {
      "cell_type": "code",
      "source": [
        "a=6\n",
        "b=3\n",
        "c=2\n",
        "multiply=a*b*c\n",
        "print(multiply)"
      ],
      "metadata": {
        "colab": {
          "base_uri": "https://localhost:8080/"
        },
        "id": "1uRGFjDDhxzR",
        "outputId": "4ed3cf63-4eac-41a6-c98b-b10a29e96478"
      },
      "execution_count": null,
      "outputs": [
        {
          "output_type": "stream",
          "name": "stdout",
          "text": [
            "36\n"
          ]
        }
      ]
    },
    {
      "cell_type": "code",
      "source": [],
      "metadata": {
        "id": "Mx0LxAsciD31"
      },
      "execution_count": null,
      "outputs": []
    },
    {
      "cell_type": "markdown",
      "source": [
        "**squaring**"
      ],
      "metadata": {
        "id": "jgZok4E9iI1q"
      }
    },
    {
      "cell_type": "code",
      "source": [],
      "metadata": {
        "id": "eAh-aFcNiLW2"
      },
      "execution_count": null,
      "outputs": []
    },
    {
      "cell_type": "code",
      "source": [
        "x=4\n",
        "square=x**2\n",
        "print(square)"
      ],
      "metadata": {
        "colab": {
          "base_uri": "https://localhost:8080/"
        },
        "id": "Ej81cnDJiMDz",
        "outputId": "bc8fc637-4357-42dc-f38a-9e1216fa87a1"
      },
      "execution_count": null,
      "outputs": [
        {
          "output_type": "stream",
          "name": "stdout",
          "text": [
            "16\n"
          ]
        }
      ]
    },
    {
      "cell_type": "code",
      "source": [],
      "metadata": {
        "id": "h5HKUBOwigx9"
      },
      "execution_count": null,
      "outputs": []
    },
    {
      "cell_type": "markdown",
      "source": [
        "**division**"
      ],
      "metadata": {
        "id": "kgA72RieitdB"
      }
    },
    {
      "cell_type": "code",
      "source": [],
      "metadata": {
        "id": "6nttxSW_ivyd"
      },
      "execution_count": null,
      "outputs": []
    },
    {
      "cell_type": "code",
      "source": [
        "a=8\n",
        "b=3\n",
        "quotient=a//b\n",
        "reminder=a%b\n",
        "print(reminder)"
      ],
      "metadata": {
        "colab": {
          "base_uri": "https://localhost:8080/"
        },
        "id": "cLQIOG08iwSt",
        "outputId": "2e88e401-05e8-49ab-8a0d-cc2c2045008f"
      },
      "execution_count": null,
      "outputs": [
        {
          "output_type": "stream",
          "name": "stdout",
          "text": [
            "2\n"
          ]
        }
      ]
    },
    {
      "cell_type": "code",
      "source": [],
      "metadata": {
        "id": "rlLbGGyGi7O2"
      },
      "execution_count": null,
      "outputs": []
    },
    {
      "cell_type": "markdown",
      "source": [],
      "metadata": {
        "id": "hNbUZQeGkdTT"
      }
    },
    {
      "cell_type": "markdown",
      "source": [
        "***square root***"
      ],
      "metadata": {
        "id": "zKX4xTz3jTbb"
      }
    },
    {
      "cell_type": "code",
      "source": [
        "import math\n",
        "a=4\n",
        "math.sqrt(a)"
      ],
      "metadata": {
        "colab": {
          "base_uri": "https://localhost:8080/"
        },
        "id": "nwjpbJYcjZE2",
        "outputId": "da406f93-e6fd-4d89-f390-4a12d5578a54"
      },
      "execution_count": null,
      "outputs": [
        {
          "output_type": "execute_result",
          "data": {
            "text/plain": [
              "2.0"
            ]
          },
          "metadata": {},
          "execution_count": 15
        }
      ]
    },
    {
      "cell_type": "code",
      "source": [
        "from binascii import b2a_base64\n",
        "a=25\n",
        "b=2\n",
        "quotient=a//b\n",
        "remainder=a%b\n",
        "print(quotient)"
      ],
      "metadata": {
        "colab": {
          "base_uri": "https://localhost:8080/"
        },
        "id": "7n0FxkZgkkR5",
        "outputId": "feaf7bf4-fe1f-41c3-a104-35baccf70d16"
      },
      "execution_count": null,
      "outputs": [
        {
          "output_type": "stream",
          "name": "stdout",
          "text": [
            "12\n"
          ]
        }
      ]
    },
    {
      "cell_type": "code",
      "source": [],
      "metadata": {
        "id": "JDsCexeXlB9_"
      },
      "execution_count": null,
      "outputs": []
    },
    {
      "cell_type": "markdown",
      "source": [
        "proceding ***Data Types***"
      ],
      "metadata": {
        "id": "EHWGdffw8Dqt"
      }
    },
    {
      "cell_type": "markdown",
      "source": [
        "***TEXT***"
      ],
      "metadata": {
        "id": "ZQ_7558PLtGL"
      }
    },
    {
      "cell_type": "code",
      "source": [
        "name=\"kavya\"\n",
        "print(type(name))"
      ],
      "metadata": {
        "colab": {
          "base_uri": "https://localhost:8080/"
        },
        "id": "_lpAuONF8T64",
        "outputId": "dd5284f4-68ed-4fc4-85bf-dfe52cf60f49"
      },
      "execution_count": null,
      "outputs": [
        {
          "output_type": "stream",
          "name": "stdout",
          "text": [
            "<class 'str'>\n"
          ]
        }
      ]
    },
    {
      "cell_type": "code",
      "source": [],
      "metadata": {
        "id": "SPNhV52t8bNj"
      },
      "execution_count": null,
      "outputs": []
    },
    {
      "cell_type": "code",
      "source": [
        "name2=\"kav & 13\"\n",
        "print(type(name2))\n"
      ],
      "metadata": {
        "colab": {
          "base_uri": "https://localhost:8080/"
        },
        "id": "-w-IZ5fj_IiW",
        "outputId": "06ee61bd-defd-4639-a0ba-62470d626ce2"
      },
      "execution_count": null,
      "outputs": [
        {
          "output_type": "stream",
          "name": "stdout",
          "text": [
            "<class 'str'>\n"
          ]
        }
      ]
    },
    {
      "cell_type": "markdown",
      "source": [
        "NUMERIC"
      ],
      "metadata": {
        "id": "7RLdDDcHL9ip"
      }
    },
    {
      "cell_type": "code",
      "source": [
        "num1=3\n",
        "num2=78.7\n",
        "num3=7j\n",
        "print(type(num1))\n",
        "print(type(num2))\n",
        "print(type(num3))"
      ],
      "metadata": {
        "colab": {
          "base_uri": "https://localhost:8080/"
        },
        "id": "RcoGNJlW_Vxv",
        "outputId": "2fb99fa3-e0d8-4bc9-b680-ba09eacddeaa"
      },
      "execution_count": null,
      "outputs": [
        {
          "output_type": "stream",
          "name": "stdout",
          "text": [
            "<class 'int'>\n",
            "<class 'float'>\n",
            "<class 'complex'>\n"
          ]
        }
      ]
    },
    {
      "cell_type": "markdown",
      "source": [
        "Sequence data type\n",
        "List\n",
        "Tuples\n",
        "Range\n",
        "\n",
        "1. Ordered\n",
        "2. Mutable\n",
        "3. Allow duplicate"
      ],
      "metadata": {
        "id": "5_aeUKrYPptd"
      }
    },
    {
      "cell_type": "code",
      "source": [
        "lis=['kav', '345', '55.5']\n",
        "type(lis)"
      ],
      "metadata": {
        "colab": {
          "base_uri": "https://localhost:8080/"
        },
        "id": "cTqAxVkwQOzF",
        "outputId": "271eaad2-4f3b-4b29-f95a-aa2fb2610183"
      },
      "execution_count": null,
      "outputs": [
        {
          "output_type": "execute_result",
          "data": {
            "text/plain": [
              "list"
            ]
          },
          "metadata": {},
          "execution_count": 9
        }
      ]
    },
    {
      "cell_type": "code",
      "source": [
        "print(lis)"
      ],
      "metadata": {
        "colab": {
          "base_uri": "https://localhost:8080/"
        },
        "id": "6850gqerfdnD",
        "outputId": "538429d0-fd99-4266-be3e-7025a406a909"
      },
      "execution_count": null,
      "outputs": [
        {
          "output_type": "stream",
          "name": "stdout",
          "text": [
            "['kav', '345', '55.5']\n"
          ]
        }
      ]
    },
    {
      "cell_type": "code",
      "source": [
        "lis2=['college', '963', 'country']\n",
        "print(len(lis))\n",
        "print(len(lis2))\n",
        "lis3= lis+lis2\n",
        "print(lis3)\n",
        "print(len(lis3))"
      ],
      "metadata": {
        "colab": {
          "base_uri": "https://localhost:8080/"
        },
        "id": "JVB5yq_gQduV",
        "outputId": "270cb434-d86a-4017-b80e-5b1f9f5fc75c"
      },
      "execution_count": null,
      "outputs": [
        {
          "output_type": "stream",
          "name": "stdout",
          "text": [
            "3\n",
            "3\n",
            "['kav', '345', '55.5', 'college', '963', 'country']\n",
            "6\n"
          ]
        }
      ]
    },
    {
      "cell_type": "code",
      "source": [
        "lis=['aa','village','school']\n",
        "lis[0]\n"
      ],
      "metadata": {
        "colab": {
          "base_uri": "https://localhost:8080/",
          "height": 36
        },
        "id": "FkZm70X0navB",
        "outputId": "41a7fd2b-6fd1-49f8-b023-2545cc91cabc"
      },
      "execution_count": null,
      "outputs": [
        {
          "output_type": "execute_result",
          "data": {
            "text/plain": [
              "'school'"
            ],
            "application/vnd.google.colaboratory.intrinsic+json": {
              "type": "string"
            }
          },
          "metadata": {},
          "execution_count": 7
        }
      ]
    },
    {
      "cell_type": "code",
      "source": [
        "lis"
      ],
      "metadata": {
        "id": "ENtm9HD5e330"
      },
      "execution_count": null,
      "outputs": []
    },
    {
      "cell_type": "code",
      "source": [
        "lis.sort()"
      ],
      "metadata": {
        "id": "_TCcbNOOpBbv"
      },
      "execution_count": null,
      "outputs": []
    },
    {
      "cell_type": "code",
      "source": [
        "lis"
      ],
      "metadata": {
        "colab": {
          "base_uri": "https://localhost:8080/"
        },
        "id": "1ZHTARGNpEiu",
        "outputId": "87ed568d-7eca-4c92-dc0d-d7fe17c70369"
      },
      "execution_count": null,
      "outputs": [
        {
          "output_type": "execute_result",
          "data": {
            "text/plain": [
              "['aa', 'school', 'village']"
            ]
          },
          "metadata": {},
          "execution_count": 23
        }
      ]
    },
    {
      "cell_type": "code",
      "source": [
        "tuple1=(\" dharwad \", \"gadag\", \"dharwad \")\n",
        "print(type(tuple1))\n",
        "tuple2=(\" dharwad \",)\n",
        "print(type(tuple2))\n",
        "tuple3=(1,9,6,4,3)\n",
        "print(type(tuple3))\n",
        "tuple4=(\"state \",\"123\", 1,2,3,6,\"gadag\")\n",
        "print(type(tuple4))\n",
        "tuple5=tuple((1,9,6,4,3))\n",
        "print(type(tuple5))\n",
        "\n"
      ],
      "metadata": {
        "colab": {
          "base_uri": "https://localhost:8080/"
        },
        "id": "EbhQV1xLpSun",
        "outputId": "01ea8d31-0ba3-4f20-dbf9-fc358962305d"
      },
      "execution_count": null,
      "outputs": [
        {
          "output_type": "stream",
          "name": "stdout",
          "text": [
            "<class 'tuple'>\n",
            "<class 'tuple'>\n",
            "<class 'tuple'>\n",
            "<class 'tuple'>\n",
            "<class 'tuple'>\n"
          ]
        }
      ]
    },
    {
      "cell_type": "markdown",
      "source": [
        "Tuples--->storing multile items in a single variable\n",
        "\n",
        "1. ordered\n",
        "2. unchangeable\n",
        "3. allow duplicate\n",
        "\n",
        "\n",
        "1. how to acess the tuple\n",
        "2. join tuples\n",
        "3. multiply tuples\n",
        "4. indexing\n",
        "5. counting\n",
        "\n",
        "\n",
        "\n"
      ],
      "metadata": {
        "id": "2aMKMe_Sp1kh"
      }
    },
    {
      "cell_type": "code",
      "source": [],
      "metadata": {
        "id": "5jreD93uZJ7o"
      },
      "execution_count": null,
      "outputs": []
    },
    {
      "cell_type": "code",
      "source": [
        "tuple1=(\" dharwad \", \"gadag\", \" belgum \",\" bidar \")\n",
        "print(tuple1[0])\n",
        "print(tuple1[1])\n",
        "print(tuple1[2])\n",
        "print(tuple1[3])\n",
        "tuple6=tuple1 + tuple1\n",
        "print(tuple6)\n",
        "\n",
        "tuple7=tuple6 * 2\n",
        "print(tuple7)\n",
        "\n",
        "y=tuple7.index('gadag')\n",
        "print(y)\n",
        "\n",
        "x=tuple7.count('gadag')\n",
        "print(x)"
      ],
      "metadata": {
        "colab": {
          "base_uri": "https://localhost:8080/"
        },
        "id": "gyT7YFWOaaTU",
        "outputId": "596bc103-b141-4ea4-c0fb-a9ba949b5a24"
      },
      "execution_count": null,
      "outputs": [
        {
          "output_type": "stream",
          "name": "stdout",
          "text": [
            " dharwad \n",
            "gadag\n",
            " belgum \n",
            " bidar \n",
            "(' dharwad ', 'gadag', ' belgum ', ' bidar ', ' dharwad ', 'gadag', ' belgum ', ' bidar ')\n",
            "(' dharwad ', 'gadag', ' belgum ', ' bidar ', ' dharwad ', 'gadag', ' belgum ', ' bidar ', ' dharwad ', 'gadag', ' belgum ', ' bidar ', ' dharwad ', 'gadag', ' belgum ', ' bidar ')\n",
            "1\n",
            "4\n"
          ]
        }
      ]
    },
    {
      "cell_type": "code",
      "source": [
        "x=(\"Hubli\",\"Belgum\",\"Bidar\")\n",
        "print(type(x))"
      ],
      "metadata": {
        "id": "2MS-nrfKceIW",
        "colab": {
          "base_uri": "https://localhost:8080/"
        },
        "outputId": "49f39688-52e3-4c25-e55f-685c7d0866d1"
      },
      "execution_count": null,
      "outputs": [
        {
          "output_type": "stream",
          "name": "stdout",
          "text": [
            "<class 'tuple'>\n"
          ]
        }
      ]
    },
    {
      "cell_type": "code",
      "source": [
        "y=list(x)\n",
        "y[2]=\"mumbai\"\n",
        "x=tuple(y)\n",
        "print(x)"
      ],
      "metadata": {
        "colab": {
          "base_uri": "https://localhost:8080/"
        },
        "id": "bxwsrF9Egtd5",
        "outputId": "868c2a0f-8898-4d8d-d044-51ccd5f62af1"
      },
      "execution_count": null,
      "outputs": [
        {
          "output_type": "stream",
          "name": "stdout",
          "text": [
            "('Hubli', 'Belgum', 'mumbai')\n"
          ]
        }
      ]
    },
    {
      "cell_type": "markdown",
      "source": [
        "sets\n",
        "1. Unordered\n",
        "2. UnchangeAble\n",
        "3. Duplicates not allowed"
      ],
      "metadata": {
        "id": "rTgJe2Itl0Ie"
      }
    },
    {
      "cell_type": "code",
      "source": [
        "set1={\"Red\",\"Blue\", \"Black\", \"Red\"}\n",
        "print(set1)\n",
        "set1.add('orange')\n",
        "print(set1)\n",
        "set2={\"ball\",\"bat\",\"wicket\"}\n",
        "set1.update(set2)\n",
        "print(set1)"
      ],
      "metadata": {
        "colab": {
          "base_uri": "https://localhost:8080/"
        },
        "id": "0CPCDHNViXuX",
        "outputId": "76f252f8-b097-4309-cb03-392bbaa31f6a"
      },
      "execution_count": null,
      "outputs": [
        {
          "output_type": "stream",
          "name": "stdout",
          "text": [
            "{'Red', 'Blue', 'Black'}\n",
            "{'orange', 'Red', 'Blue', 'Black'}\n",
            "{'Blue', 'Red', 'ball', 'bat', 'wicket', 'Black', 'orange'}\n"
          ]
        }
      ]
    },
    {
      "cell_type": "code",
      "source": [
        "Dict1={\"Name\": \"Kavya\",\n",
        "     \"Age\":\"20\",\n",
        "     \"Gender\": \"Female\",\"Year\":\"2023\",\"Year\":\"2003\"}\n",
        "print(Dict1)"
      ],
      "metadata": {
        "colab": {
          "base_uri": "https://localhost:8080/"
        },
        "id": "qzEq9QeSmHFj",
        "outputId": "9eb13189-1d19-4599-dce4-c4cf4c6bf725"
      },
      "execution_count": null,
      "outputs": [
        {
          "output_type": "stream",
          "name": "stdout",
          "text": [
            "{'Name': 'Kavya', 'Age': '20', 'Gender': 'Female', 'Year': '2003'}\n"
          ]
        }
      ]
    },
    {
      "cell_type": "code",
      "source": [
        "print(type(Dict1))"
      ],
      "metadata": {
        "colab": {
          "base_uri": "https://localhost:8080/"
        },
        "id": "uNr-h4mQmuks",
        "outputId": "1d6cfae6-dca2-4193-d3a0-86537844ad62"
      },
      "execution_count": null,
      "outputs": [
        {
          "output_type": "stream",
          "name": "stdout",
          "text": [
            "<class 'dict'>\n"
          ]
        }
      ]
    },
    {
      "cell_type": "code",
      "source": [
        "dict2=dict(vegetable=\"cucumber\",desert=\"ice\")\n",
        "print(dict2)\n",
        "print(type(dict2))"
      ],
      "metadata": {
        "colab": {
          "base_uri": "https://localhost:8080/"
        },
        "id": "otYc0_-vnCK9",
        "outputId": "4cfab7c2-750a-45b1-993b-a165afd4cf72"
      },
      "execution_count": null,
      "outputs": [
        {
          "output_type": "stream",
          "name": "stdout",
          "text": [
            "{'vegetable': 'cucumber', 'desert': 'ice'}\n",
            "<class 'dict'>\n"
          ]
        }
      ]
    },
    {
      "cell_type": "code",
      "source": [
        "a=input(\"enter the value of a\")\n",
        "b=input(\"enter the value of b\")\n",
        "print(a)\n",
        "print(b)"
      ],
      "metadata": {
        "colab": {
          "base_uri": "https://localhost:8080/"
        },
        "id": "MV3v6u9K6D88",
        "outputId": "a4cbbee0-e9d7-4a32-c0cd-c39262081b38"
      },
      "execution_count": null,
      "outputs": [
        {
          "output_type": "stream",
          "name": "stdout",
          "text": [
            "enter the value of a2\n",
            "enter the value of b3\n",
            "2\n",
            "3\n"
          ]
        }
      ]
    },
    {
      "cell_type": "code",
      "source": [
        "if a>b:\n",
        "  print(\"the value of a is greater than b\")\n",
        "if a==b:\n",
        "  print(\"both the a and  b are same\")\n",
        "else:\n",
        "  print('the value of b is greater than a')\n"
      ],
      "metadata": {
        "colab": {
          "base_uri": "https://localhost:8080/"
        },
        "id": "9pVvGv1h7-GD",
        "outputId": "2ad040bc-cfe7-441b-f7cf-48131a6bf942"
      },
      "execution_count": null,
      "outputs": [
        {
          "output_type": "stream",
          "name": "stdout",
          "text": [
            "the value of b is greater than a\n"
          ]
        }
      ]
    },
    {
      "cell_type": "code",
      "source": [
        "if a>b:\n",
        "  print(\"the value of a is greater than b\")\n",
        "#if a==b:\n",
        "  #print(\"both the a and  b are same\")\n",
        "else:\n",
        "  print('hello')\n"
      ],
      "metadata": {
        "colab": {
          "base_uri": "https://localhost:8080/"
        },
        "id": "sjGaocEj8amw",
        "outputId": "d4e8db41-5099-4348-add4-28f772921e11"
      },
      "execution_count": null,
      "outputs": [
        {
          "output_type": "stream",
          "name": "stdout",
          "text": [
            "hello\n"
          ]
        }
      ]
    },
    {
      "cell_type": "code",
      "source": [
        "ball1_colour=\"orange\"\n",
        "ball2_colour=\"green\"\n",
        "ball3_colour=\"white\"\n",
        "ball4_colour=\"black\"\n",
        "\n",
        "pick_ball=input(\"please pick a ball\")\n",
        "\n",
        "if pick_ball==ball1_colour:\n",
        "  print(\"orange ball is picked\")\n",
        "\n",
        "elif pick_ball==ball2_colour:\n",
        "     print(\"green ball is picked\")\n",
        "\n",
        "elif pick_ball==ball3_colour:\n",
        "     print(\"white ball is picked\")\n",
        "\n",
        "else:\n",
        "  print(\"black ball is picked\")\n",
        "\n"
      ],
      "metadata": {
        "colab": {
          "base_uri": "https://localhost:8080/"
        },
        "id": "J9UbtCzN_QVI",
        "outputId": "5dcfc380-de07-4f65-bb99-6a0843a51bd2"
      },
      "execution_count": null,
      "outputs": [
        {
          "output_type": "stream",
          "name": "stdout",
          "text": [
            "please pick a ballwhite\n",
            "white ball is picked\n"
          ]
        }
      ]
    },
    {
      "cell_type": "code",
      "source": [],
      "metadata": {
        "id": "YT3Rx9xYBlXj"
      },
      "execution_count": null,
      "outputs": []
    },
    {
      "cell_type": "markdown",
      "source": [
        "Python operators Arithmetic operator"
      ],
      "metadata": {
        "id": "oXvwjMrRDCy8"
      }
    },
    {
      "cell_type": "code",
      "source": [
        "x=12\n",
        "y=4\n",
        "\n",
        "sum=x+y\n",
        "diff=x-y\n",
        "prod=x*y\n",
        "div=x/y\n",
        "fdiv=x//y\n",
        "mod=x%y\n",
        "power=x**y\n",
        "print(sum)\n",
        "print(diff)\n",
        "print(prod)\n",
        "print(div)\n",
        "print(fdiv)\n",
        "print(mod)\n",
        "print(power)"
      ],
      "metadata": {
        "colab": {
          "base_uri": "https://localhost:8080/"
        },
        "id": "GMkIGe3TDM9u",
        "outputId": "139f9877-36fc-44be-f169-09d66c9449f7"
      },
      "execution_count": null,
      "outputs": [
        {
          "output_type": "stream",
          "name": "stdout",
          "text": [
            "16\n",
            "8\n",
            "48\n",
            "3.0\n",
            "3\n",
            "0\n",
            "20736\n"
          ]
        }
      ]
    },
    {
      "cell_type": "code",
      "source": [
        "age=int(input(\"Enter the age\"))\n",
        "print(age>=18 and age<=50)\n",
        "print(age>18 or age<21)"
      ],
      "metadata": {
        "colab": {
          "base_uri": "https://localhost:8080/"
        },
        "id": "1s6x7z4FGAjC",
        "outputId": "c5bb35ac-b6d1-497f-b326-f4e9e3d7f539"
      },
      "execution_count": null,
      "outputs": [
        {
          "output_type": "stream",
          "name": "stdout",
          "text": [
            "Enter the age7\n",
            "False\n",
            "True\n"
          ]
        }
      ]
    },
    {
      "cell_type": "code",
      "source": [
        "print(8 & 12)\n",
        "print(0XF & 0XE)\n"
      ],
      "metadata": {
        "colab": {
          "base_uri": "https://localhost:8080/"
        },
        "id": "Qpacf5KrHJ_8",
        "outputId": "da9bf42b-b2d6-41d2-d8f1-dbe772011104"
      },
      "execution_count": null,
      "outputs": [
        {
          "output_type": "stream",
          "name": "stdout",
          "text": [
            "8\n",
            "14\n"
          ]
        }
      ]
    },
    {
      "cell_type": "code",
      "source": [
        "print(6 | 8)\n",
        "print(0XF | 0XE)\n"
      ],
      "metadata": {
        "colab": {
          "base_uri": "https://localhost:8080/"
        },
        "id": "W_1CfxGPSKHO",
        "outputId": "cd740a72-ebe6-4bea-808b-fd1dcaa7b452"
      },
      "execution_count": null,
      "outputs": [
        {
          "output_type": "stream",
          "name": "stdout",
          "text": [
            "14\n",
            "15\n"
          ]
        }
      ]
    },
    {
      "cell_type": "code",
      "source": [
        "print(5 ^ 12)\n",
        "print(0XA ^ 0XB)"
      ],
      "metadata": {
        "colab": {
          "base_uri": "https://localhost:8080/"
        },
        "id": "5aHzEHSuSQm4",
        "outputId": "21654e59-49fd-4166-cda7-bd3d702ef2f2"
      },
      "execution_count": null,
      "outputs": [
        {
          "output_type": "stream",
          "name": "stdout",
          "text": [
            "9\n",
            "1\n"
          ]
        }
      ]
    },
    {
      "cell_type": "code",
      "source": [
        "print(8<<1)"
      ],
      "metadata": {
        "colab": {
          "base_uri": "https://localhost:8080/"
        },
        "id": "mQ3xm2ueY9VT",
        "outputId": "bd3eaa95-2e8c-4815-cccc-a0877699461d"
      },
      "execution_count": null,
      "outputs": [
        {
          "output_type": "stream",
          "name": "stdout",
          "text": [
            "16\n"
          ]
        }
      ]
    },
    {
      "cell_type": "code",
      "source": [
        "print(8<<2)"
      ],
      "metadata": {
        "colab": {
          "base_uri": "https://localhost:8080/"
        },
        "id": "M_LoTqAmZUNI",
        "outputId": "181a946f-5936-4820-e0ad-79781d247ca6"
      },
      "execution_count": null,
      "outputs": [
        {
          "output_type": "stream",
          "name": "stdout",
          "text": [
            "32\n"
          ]
        }
      ]
    },
    {
      "cell_type": "code",
      "source": [
        "print(8>>3)\n"
      ],
      "metadata": {
        "colab": {
          "base_uri": "https://localhost:8080/"
        },
        "id": "gLgdNt0tZgCA",
        "outputId": "2cc6a0c0-aec9-4a95-ad41-4860e2fcfb18"
      },
      "execution_count": null,
      "outputs": [
        {
          "output_type": "stream",
          "name": "stdout",
          "text": [
            "1\n"
          ]
        }
      ]
    },
    {
      "cell_type": "code",
      "source": [
        "print(8>>4)\n"
      ],
      "metadata": {
        "colab": {
          "base_uri": "https://localhost:8080/"
        },
        "id": "73ziPMqWZlgH",
        "outputId": "9aeb8d08-f69d-4337-91ac-b212b54ccdce"
      },
      "execution_count": null,
      "outputs": [
        {
          "output_type": "stream",
          "name": "stdout",
          "text": [
            "0\n"
          ]
        }
      ]
    },
    {
      "cell_type": "code",
      "source": [
        "print(10>>1)\n",
        "print(10>>2)"
      ],
      "metadata": {
        "colab": {
          "base_uri": "https://localhost:8080/"
        },
        "id": "JQqcHBY8ZnKH",
        "outputId": "e762ad9a-7724-400e-dde7-1e0246d4d702"
      },
      "execution_count": null,
      "outputs": [
        {
          "output_type": "stream",
          "name": "stdout",
          "text": [
            "5\n",
            "2\n"
          ]
        }
      ]
    },
    {
      "cell_type": "markdown",
      "source": [
        "***assignment 2***"
      ],
      "metadata": {
        "id": "g1RKJKUvqYWZ"
      }
    },
    {
      "cell_type": "code",
      "source": [],
      "metadata": {
        "id": "AZwmkbEAuUKl"
      },
      "execution_count": null,
      "outputs": []
    },
    {
      "cell_type": "markdown",
      "source": [
        "***tuple***"
      ],
      "metadata": {
        "id": "01vYo_2IiCX3"
      }
    },
    {
      "cell_type": "code",
      "source": [
        "tuple1=(\"school\", \"education\", \"teacher\")\n",
        "print(type(tuple1))\n",
        "print(tuple1[0])\n",
        "print(tuple1[1])\n",
        "print(tuple1[2])\n",
        "tuple2=tuple1+tuple1\n",
        "print(tuple2)\n",
        "\n",
        "a=tuple2.index('teacher')\n",
        "print(a)\n",
        "\n",
        "b=tuple2.count('teacher')\n",
        "print(b)"
      ],
      "metadata": {
        "colab": {
          "base_uri": "https://localhost:8080/"
        },
        "id": "GMSEEaHoiJx1",
        "outputId": "84e47855-515f-4cd7-cf4e-81e6a836497b"
      },
      "execution_count": null,
      "outputs": [
        {
          "output_type": "stream",
          "name": "stdout",
          "text": [
            "<class 'tuple'>\n",
            "school\n",
            "education\n",
            "teacher\n",
            "('school', 'education', 'teacher', 'school', 'education', 'teacher')\n",
            "2\n",
            "2\n"
          ]
        }
      ]
    },
    {
      "cell_type": "markdown",
      "source": [
        "***conditional statement***"
      ],
      "metadata": {
        "id": "HubsVdPhmwIT"
      }
    },
    {
      "cell_type": "code",
      "source": [
        "if a>b:\n",
        "  print(\"the value of a is greater than b\")\n",
        "#if a==b:\n",
        "  #print(\"both the a and  b are same\")\n",
        "else:\n",
        "  print('treue')\n"
      ],
      "metadata": {
        "colab": {
          "base_uri": "https://localhost:8080/"
        },
        "id": "DjRFAl6vjwm2",
        "outputId": "a2f441ae-2c8b-491b-b850-5a773b5463b3"
      },
      "execution_count": null,
      "outputs": [
        {
          "output_type": "stream",
          "name": "stdout",
          "text": [
            "treue\n"
          ]
        }
      ]
    },
    {
      "cell_type": "code",
      "source": [
        "ball1_colour=\"grey\"\n",
        "ball2_colour=\"blue\"\n",
        "ball3_colour=\"red\"\n",
        "\n",
        "\n",
        "pick_ball=input(\"please pick a ball\")\n",
        "\n",
        "if pick_ball==ball1_colour:\n",
        "  print(\"grey ball is picked\")\n",
        "\n",
        "elif pick_ball==ball2_colour:\n",
        "     print(\"blue ball is picked\")\n",
        "\n",
        "else:\n",
        "  print(\"red ball is picked\")"
      ],
      "metadata": {
        "colab": {
          "base_uri": "https://localhost:8080/"
        },
        "id": "-nuricXKlCH3",
        "outputId": "22084dbe-0e81-487c-a6e1-8a69aef051ba"
      },
      "execution_count": null,
      "outputs": [
        {
          "output_type": "stream",
          "name": "stdout",
          "text": [
            "please pick a ballgrey\n",
            "grey ball is picked\n"
          ]
        }
      ]
    },
    {
      "cell_type": "markdown",
      "source": [
        "***sets***"
      ],
      "metadata": {
        "id": "5RTKASnLm7kP"
      }
    },
    {
      "cell_type": "code",
      "source": [
        "set1={\"colur\",\"vegetable\", \"fruit\"}\n",
        "print(set1)\n",
        "set1.add('orange')\n",
        "print(set1)\n",
        "set2={\"ball\",\"bat\",\"wicket\"}\n",
        "set1.update(set2)\n",
        "print(set1)"
      ],
      "metadata": {
        "colab": {
          "base_uri": "https://localhost:8080/"
        },
        "id": "7ytd1i9YnFwn",
        "outputId": "4ea48144-c624-4b89-b321-eb19100ba7b4"
      },
      "execution_count": null,
      "outputs": [
        {
          "output_type": "stream",
          "name": "stdout",
          "text": [
            "{'fruit', 'vegetable', 'colur'}\n",
            "{'fruit', 'vegetable', 'orange', 'colur'}\n",
            "{'vegetable', 'ball', 'orange', 'bat', 'fruit', 'colur', 'wicket'}\n"
          ]
        }
      ]
    },
    {
      "cell_type": "code",
      "source": [],
      "metadata": {
        "id": "XJzcXoN4oE_F"
      },
      "execution_count": null,
      "outputs": []
    },
    {
      "cell_type": "markdown",
      "source": [
        "***operator***"
      ],
      "metadata": {
        "id": "Ne9FxngfoI8h"
      }
    },
    {
      "cell_type": "code",
      "source": [
        "print(4 & 8)\n",
        "print(0xC ^ 0xD)\n",
        "print(0XA | 9)\n",
        "print(3*9)\n",
        "print(4+6)\n",
        "print(3-2)\n",
        "print(10>>2)\n",
        "print(8<<2)"
      ],
      "metadata": {
        "colab": {
          "base_uri": "https://localhost:8080/"
        },
        "id": "djle3ybMoMaZ",
        "outputId": "735a5663-c1d2-4a47-b535-59592832ebda"
      },
      "execution_count": null,
      "outputs": [
        {
          "output_type": "stream",
          "name": "stdout",
          "text": [
            "0\n",
            "1\n",
            "11\n",
            "27\n",
            "10\n",
            "1\n",
            "2\n",
            "32\n"
          ]
        }
      ]
    },
    {
      "cell_type": "code",
      "source": [
        "Dict1={\"Name\": \"Ishwari\",\n",
        "     \"Age\":\"16\",\n",
        "     \"Gender\": \"Female\",\"Year\":\"2009\",\"Year\":\"2003\"}\n",
        "print(Dict1)"
      ],
      "metadata": {
        "colab": {
          "base_uri": "https://localhost:8080/"
        },
        "id": "ziA-Dj_-pJMv",
        "outputId": "6f761302-946c-49c5-e967-3b5ffb143db0"
      },
      "execution_count": null,
      "outputs": [
        {
          "output_type": "stream",
          "name": "stdout",
          "text": [
            "{'Name': 'Ishwari', 'Age': '16', 'Gender': 'Female', 'Year': '2003'}\n"
          ]
        }
      ]
    },
    {
      "cell_type": "markdown",
      "source": [
        "assignment operator"
      ],
      "metadata": {
        "id": "V90q4Rtpz9yn"
      }
    },
    {
      "cell_type": "code",
      "source": [
        "a=10\n",
        "print(a)\n",
        "a*=2\n",
        "print(a)\n",
        "a-=8\n",
        "print(a)\n",
        "a/=9\n",
        "print(a)\n",
        "\n"
      ],
      "metadata": {
        "colab": {
          "base_uri": "https://localhost:8080/"
        },
        "id": "AtV_QsLA1HlK",
        "outputId": "f56afd1e-ff09-4918-83f3-a8550ea414bb"
      },
      "execution_count": null,
      "outputs": [
        {
          "output_type": "stream",
          "name": "stdout",
          "text": [
            "10\n",
            "20\n",
            "12\n",
            "1.3333333333333333\n"
          ]
        }
      ]
    },
    {
      "cell_type": "code",
      "source": [
        "x=56\n",
        "print(x)\n",
        "x%=4\n",
        "print(x)\n",
        "x//=5\n",
        "print(x)\n",
        "x**=3\n",
        "print(x)\n",
        "x&=13\n",
        "print(x)\n",
        "x|=22\n",
        "print(x)\n",
        "x>>=2\n",
        "print(x)\n",
        "x<<=1\n",
        "print(x)\n"
      ],
      "metadata": {
        "colab": {
          "base_uri": "https://localhost:8080/"
        },
        "id": "RC2Xplp_4yhN",
        "outputId": "f831aeb2-c8b7-424b-abb5-0605eeeb9fdf"
      },
      "execution_count": null,
      "outputs": [
        {
          "output_type": "stream",
          "name": "stdout",
          "text": [
            "56\n",
            "0\n",
            "0\n",
            "0\n",
            "0\n",
            "22\n",
            "5\n",
            "10\n"
          ]
        }
      ]
    },
    {
      "cell_type": "markdown",
      "source": [
        "***loops***"
      ],
      "metadata": {
        "id": "JWEzpUcmnNEe"
      }
    },
    {
      "cell_type": "code",
      "source": [
        "p=[\"numbers\",\"letters\",\"alphabets\"]\n",
        "q=[\"numbers\",\"letters\",\"alphabets\"]\n",
        "r=q\n",
        "r=p\n",
        "print(r is q)\n",
        "print(r is  not p)\n",
        "print(r is p)\n",
        "print(\"alphabets\" in q)\n",
        "\n",
        "\n"
      ],
      "metadata": {
        "colab": {
          "base_uri": "https://localhost:8080/"
        },
        "id": "r9N3-1nHkXhn",
        "outputId": "67242f0a-2fee-4d13-9950-d006c26e99f0"
      },
      "execution_count": null,
      "outputs": [
        {
          "output_type": "stream",
          "name": "stdout",
          "text": [
            "False\n",
            "False\n",
            "True\n",
            "True\n"
          ]
        }
      ]
    },
    {
      "cell_type": "code",
      "source": [
        "num=int(input(\"enter the number\"))\n",
        "while num<=9:\n",
        " print(\" number is single digit\")\n",
        " break\n",
        "while  num>9 and num<=99:\n",
        "  print(\" number is double digit\")\n",
        "  break\n",
        "else:\n",
        "    print(\"number has more than two didgits\")"
      ],
      "metadata": {
        "colab": {
          "base_uri": "https://localhost:8080/"
        },
        "id": "C4fZ95j2nIvx",
        "outputId": "620950e1-e1ee-46b0-c975-53dd1a8195d1"
      },
      "execution_count": null,
      "outputs": [
        {
          "output_type": "stream",
          "name": "stdout",
          "text": [
            "enter the number99\n",
            " number is double digit\n"
          ]
        }
      ]
    },
    {
      "cell_type": "code",
      "source": [
        "for x in range(1,15,3):\n",
        " print(x)"
      ],
      "metadata": {
        "colab": {
          "base_uri": "https://localhost:8080/"
        },
        "id": "cuflTzkntRt_",
        "outputId": "5e5403ee-f139-4029-cb71-3c28de0fbb73"
      },
      "execution_count": null,
      "outputs": [
        {
          "output_type": "stream",
          "name": "stdout",
          "text": [
            "1\n",
            "4\n",
            "7\n",
            "10\n",
            "13\n"
          ]
        }
      ]
    },
    {
      "cell_type": "code",
      "source": [
        "for x in range(5,9):\n",
        " print(\"single digit number\")\n",
        "for x in range(0,77,10):\n",
        " print(\"double digit number\")"
      ],
      "metadata": {
        "colab": {
          "base_uri": "https://localhost:8080/"
        },
        "id": "7dJMf9ravwwp",
        "outputId": "612df59f-a5cf-42fb-bf77-6b28f7030be3"
      },
      "execution_count": null,
      "outputs": [
        {
          "output_type": "stream",
          "name": "stdout",
          "text": [
            "single digit number\n",
            "single digit number\n",
            "single digit number\n",
            "single digit number\n",
            "double digit number\n",
            "double digit number\n",
            "double digit number\n",
            "double digit number\n",
            "double digit number\n",
            "double digit number\n",
            "double digit number\n",
            "double digit number\n"
          ]
        }
      ]
    },
    {
      "cell_type": "code",
      "source": [
        "places=[\"hubli\",\"haveri\",\"belgum\",\"banglore\"]\n",
        "for y in places:\n",
        "  print(y)\n",
        "  if y==\"belagum\":\n",
        "   print(\"found\")\n",
        "  break"
      ],
      "metadata": {
        "colab": {
          "base_uri": "https://localhost:8080/"
        },
        "id": "Is5inRlFwQg1",
        "outputId": "610419d6-6517-4442-e349-af2de8b9f44b"
      },
      "execution_count": null,
      "outputs": [
        {
          "output_type": "stream",
          "name": "stdout",
          "text": [
            "hubli\n"
          ]
        }
      ]
    },
    {
      "cell_type": "code",
      "source": [],
      "metadata": {
        "id": "aszIdBt7ziPN"
      },
      "execution_count": null,
      "outputs": []
    },
    {
      "cell_type": "markdown",
      "source": [
        "***functions***"
      ],
      "metadata": {
        "id": "pFUWJz7QnxSM"
      }
    },
    {
      "cell_type": "code",
      "source": [
        "def cake_baker():\n",
        "  print(\" I am ready to bake\")\n",
        "\n",
        "cake_baker()"
      ],
      "metadata": {
        "colab": {
          "base_uri": "https://localhost:8080/"
        },
        "id": "JUN21_HGn0md",
        "outputId": "0ab7cd94-73ba-4a5f-d3b5-e34a3c62e8a9"
      },
      "execution_count": null,
      "outputs": [
        {
          "output_type": "stream",
          "name": "stdout",
          "text": [
            " I am ready to bake\n"
          ]
        }
      ]
    },
    {
      "cell_type": "code",
      "source": [
        "def cake_baker(p,f,s):\n",
        "  print(\"no of pieces=\",p)\n",
        "  print(\"flavor is=\",f)\n",
        "  print(\"size is=\",s)\n",
        "\n",
        "cake_baker(\"10\",\"green apple\",\"5kg\")\n",
        "cake_baker(\"5\",\"chocolate\",\"4kg\")"
      ],
      "metadata": {
        "colab": {
          "base_uri": "https://localhost:8080/"
        },
        "id": "nEeTgPsToL7S",
        "outputId": "49bfe9c0-381e-497e-e45c-13f4ebd028bb"
      },
      "execution_count": null,
      "outputs": [
        {
          "output_type": "stream",
          "name": "stdout",
          "text": [
            "no of pieces= 10\n",
            "flavor is= green apple\n",
            "size is= 5kg\n",
            "no of pieces= 5\n",
            "flavor is= chocolate\n",
            "size is= 4kg\n"
          ]
        }
      ]
    },
    {
      "cell_type": "code",
      "source": [
        "def add(*crack):\n",
        " sum=0\n",
        " for i in crack:\n",
        "   sum+=i\n",
        " return sum\n",
        "print(add(1,2,3,4))"
      ],
      "metadata": {
        "colab": {
          "base_uri": "https://localhost:8080/"
        },
        "id": "QbRn8HhatY-H",
        "outputId": "fb909d84-bdd0-4930-dd51-5bf9832e13be"
      },
      "execution_count": null,
      "outputs": [
        {
          "output_type": "stream",
          "name": "stdout",
          "text": [
            "10\n"
          ]
        }
      ]
    },
    {
      "cell_type": "code",
      "source": [
        "def greet(**kwargs):\n",
        "  print(\"hello\")\n",
        "  for key, value in kwargs.items():\n",
        "    print(value)\n",
        "\n",
        "greet(name=\"ishwari\", usn=\"234erty\", branch=\"ECE\")"
      ],
      "metadata": {
        "colab": {
          "base_uri": "https://localhost:8080/"
        },
        "id": "Duve2pdqVptU",
        "outputId": "f84e1050-adc8-454b-fd9d-884b444404f7"
      },
      "execution_count": null,
      "outputs": [
        {
          "output_type": "stream",
          "name": "stdout",
          "text": [
            "hello\n",
            "ishwari\n",
            "234erty\n",
            "ECE\n"
          ]
        }
      ]
    },
    {
      "cell_type": "code",
      "source": [
        "def greet(**kwargs):\n",
        "  print(\"hello\")\n",
        "  for key, value in kwargs.items():\n",
        "    print(value, end=\"\")\n",
        "\n",
        "greet(name=\"ishwari\", usn=\"234erty\", branch=\"ECE\")"
      ],
      "metadata": {
        "colab": {
          "base_uri": "https://localhost:8080/"
        },
        "id": "dwzWb9FIXFsJ",
        "outputId": "3ca4053d-bb88-4d68-b9d8-9cf10433a8d6"
      },
      "execution_count": null,
      "outputs": [
        {
          "output_type": "stream",
          "name": "stdout",
          "text": [
            "hello\n",
            "ishwari234ertyECE"
          ]
        }
      ]
    },
    {
      "cell_type": "code",
      "source": [
        "import random\n",
        "\n",
        "a=random.randint(1,9)\n",
        "print(a)"
      ],
      "metadata": {
        "colab": {
          "base_uri": "https://localhost:8080/"
        },
        "id": "b-tVVXewXTFP",
        "outputId": "5ad74f69-304a-4cf4-ce31-b0bb5fef0ee0"
      },
      "execution_count": null,
      "outputs": [
        {
          "output_type": "stream",
          "name": "stdout",
          "text": [
            "2\n"
          ]
        }
      ]
    },
    {
      "cell_type": "code",
      "source": [
        "import random\n",
        "\n",
        "a=random.randint(1,9)\n",
        "print(a)\n",
        "\n",
        "x=random.random()\n",
        "print(x)"
      ],
      "metadata": {
        "colab": {
          "base_uri": "https://localhost:8080/"
        },
        "id": "nnu1B47OXwoB",
        "outputId": "c52441d5-a91d-4da0-86d2-90d29332e87c"
      },
      "execution_count": null,
      "outputs": [
        {
          "output_type": "stream",
          "name": "stdout",
          "text": [
            "7\n",
            "0.3976175599151577\n"
          ]
        }
      ]
    },
    {
      "cell_type": "code",
      "source": [
        "import random\n",
        "\n",
        "computer=random.randint(1,9)\n",
        "userinput=int(input(\"enter the number between 1and 9\"))\n",
        "print(computer)\n",
        "print(userinput)\n",
        "\n",
        "if computer>userinput:\n",
        "  print(\"computer won\")\n",
        "elif  computer==userinput:\n",
        "  print(\"TIEK\")\n",
        "else:\n",
        "  print(\"you won\")"
      ],
      "metadata": {
        "colab": {
          "base_uri": "https://localhost:8080/"
        },
        "id": "M60rE3rBYDf2",
        "outputId": "50fb7153-6c2e-4eb0-bf0b-35205873a9d6"
      },
      "execution_count": null,
      "outputs": [
        {
          "output_type": "stream",
          "name": "stdout",
          "text": [
            "enter the number between 1and 9  100000\n",
            "9\n",
            "100000\n",
            "you won\n"
          ]
        }
      ]
    },
    {
      "cell_type": "code",
      "source": [
        "import random\n",
        "\n",
        "gamelist=['rock','paper','scissors']\n",
        "computer=random.choice(gamelist)\n",
        "user=input(\"enter either rock or paper or scissors \")\n",
        "print(computer)\n",
        "print(user)\n",
        "\n",
        "if (computer==\"rock\" and user==\"paper\"):\n",
        "  print(\"computer won\")\n",
        "elif(computer==\"paper\" and user==\"scissors\"):\n",
        "  print(\"you won\")\n",
        "elif(computer==\"scissors\" and user==\"paper\"):\n",
        "\n",
        "else:\n",
        "    print(\"TIE\")"
      ],
      "metadata": {
        "colab": {
          "base_uri": "https://localhost:8080/",
          "height": 140
        },
        "id": "DNU5LnFRb40e",
        "outputId": "f6e9f650-6723-4dd4-fde3-e854a5c9921b"
      },
      "execution_count": null,
      "outputs": [
        {
          "output_type": "error",
          "ename": "IndentationError",
          "evalue": "ignored",
          "traceback": [
            "\u001b[0;36m  File \u001b[0;32m\"<ipython-input-31-d15517b75b0a>\"\u001b[0;36m, line \u001b[0;32m15\u001b[0m\n\u001b[0;31m    else:\u001b[0m\n\u001b[0m    ^\u001b[0m\n\u001b[0;31mIndentationError\u001b[0m\u001b[0;31m:\u001b[0m expected an indented block after 'elif' statement on line 13\n"
          ]
        }
      ]
    },
    {
      "cell_type": "markdown",
      "source": [
        "***Numpy Numerical Python***"
      ],
      "metadata": {
        "id": "pLLq47s01nus"
      }
    },
    {
      "cell_type": "code",
      "source": [
        "import numpy as np"
      ],
      "metadata": {
        "id": "I4mqWFgV2hDt"
      },
      "execution_count": null,
      "outputs": []
    },
    {
      "cell_type": "code",
      "source": [
        "a=np.array([35,1,34,36,27,48])\n",
        "print(type(a))"
      ],
      "metadata": {
        "id": "lAsnRYMdboR7",
        "colab": {
          "base_uri": "https://localhost:8080/"
        },
        "outputId": "369fbe59-7b45-4883-c533-201385e6d9a1"
      },
      "execution_count": null,
      "outputs": [
        {
          "output_type": "stream",
          "name": "stdout",
          "text": [
            "<class 'numpy.ndarray'>\n"
          ]
        }
      ]
    },
    {
      "cell_type": "code",
      "source": [
        "b=np.zeros(3)\n",
        "c=np.ones(4)\n",
        "print(b)\n",
        "print(c)"
      ],
      "metadata": {
        "colab": {
          "base_uri": "https://localhost:8080/"
        },
        "id": "tVp0RoLzwj0q",
        "outputId": "0b0ad54d-4f27-49db-bddd-13d316b72e8d"
      },
      "execution_count": null,
      "outputs": [
        {
          "output_type": "stream",
          "name": "stdout",
          "text": [
            "[0. 0. 0.]\n",
            "[1. 1. 1. 1.]\n"
          ]
        }
      ]
    },
    {
      "cell_type": "code",
      "source": [
        "a=np.array([34,89,67,12,9])\n",
        "d=np.sort(a)\n",
        "print(d)"
      ],
      "metadata": {
        "colab": {
          "base_uri": "https://localhost:8080/"
        },
        "id": "Z786Rw9Fwoxs",
        "outputId": "f923b1fa-e08d-425d-fb32-c2e8c0e59e21"
      },
      "execution_count": null,
      "outputs": [
        {
          "output_type": "stream",
          "name": "stdout",
          "text": [
            "[ 9 12 34 67 89]\n"
          ]
        }
      ]
    },
    {
      "cell_type": "code",
      "source": [
        "import matplotlib\n",
        "print(matplotlib.__version__)"
      ],
      "metadata": {
        "colab": {
          "base_uri": "https://localhost:8080/"
        },
        "id": "zNschB8Tw1Tw",
        "outputId": "f6a89dd2-679b-4d35-bcf7-0ee7f3269a4e"
      },
      "execution_count": null,
      "outputs": [
        {
          "output_type": "stream",
          "name": "stdout",
          "text": [
            "3.7.1\n"
          ]
        }
      ]
    },
    {
      "cell_type": "code",
      "source": [
        "import matplotlib.pyplot as plt\n",
        "import numpy as np\n",
        "x=np.linspace(0,1,10)\n",
        "m=25\n",
        "c=250\n",
        "y=m*x+c\n",
        "plt.plot(x,y)\n",
        "plt.show()"
      ],
      "metadata": {
        "colab": {
          "base_uri": "https://localhost:8080/",
          "height": 430
        },
        "id": "THMRX-zww-8V",
        "outputId": "4d174eb2-4671-4c70-a4c0-640709d9d5c7"
      },
      "execution_count": null,
      "outputs": [
        {
          "output_type": "display_data",
          "data": {
            "text/plain": [
              "<Figure size 640x480 with 1 Axes>"
            ],
            "image/png": "[encoded data removed]"
          },
          "metadata": {}
        }
      ]
    },
    {
      "cell_type": "code",
      "source": [
        "import matplotlib.pyplot as plt\n",
        "import numpy as np\n",
        "x=np.linspace(0,1,10)\n",
        "m=-25\n",
        "c=250\n",
        "y=m*x+c\n",
        "plt.plot(x,y)\n",
        "plt.show()"
      ],
      "metadata": {
        "colab": {
          "base_uri": "https://localhost:8080/",
          "height": 430
        },
        "id": "pJNGXF_2xGlh",
        "outputId": "a1e57292-c5e5-4d1a-be6f-6a81c05aa53f"
      },
      "execution_count": null,
      "outputs": [
        {
          "output_type": "display_data",
          "data": {
            "text/plain": [
              "<Figure size 640x480 with 1 Axes>"
            ],
            "image/png": "[encoded data removed]"
          },
          "metadata": {}
        }
      ]
    },
    {
      "cell_type": "code",
      "source": [
        "import matplotlib.pyplot as plt\n",
        "import numpy as np\n",
        "\n",
        "#make data\n",
        "x=np.linspace(0,1,10)\n",
        "y=np.sin(x)\n",
        "\n",
        "#plot\n",
        "fig, a = plt.subplots()\n",
        "a.plot(x, y, linewidth=2.0)\n",
        "\n",
        "a.set(xlim=(0, 8), xticks=np.arange(1, 8),\n",
        "       ylim=(0, 8),  yticks=np.arange(1, 8))\n",
        "plt.show()"
      ],
      "metadata": {
        "colab": {
          "base_uri": "https://localhost:8080/",
          "height": 430
        },
        "id": "yXa-_OIZxKkP",
        "outputId": "9a902d2d-8fa3-497e-ed9f-e21d6a679caa"
      },
      "execution_count": null,
      "outputs": [
        {
          "output_type": "display_data",
          "data": {
            "text/plain": [
              "<Figure size 640x480 with 1 Axes>"
            ],
            "image/png": "[encoded data removed]"
          },
          "metadata": {}
        }
      ]
    },
    {
      "cell_type": "code",
      "source": [
        "import matplotlib.pyplot as plt\n",
        "import numpy as np\n",
        "\n",
        "#make data\n",
        "x=np.linspace(0,10,100)\n",
        "y=4+ 2 * np.sin(2*x)\n",
        "\n",
        "#plot\n",
        "fig, a = plt.subplots()\n",
        "a.plot(x, y, linewidth=3.0)\n",
        "\n",
        "a.set(xlim=(0, 8), xticks=np.arange(1, 8),\n",
        "       ylim=(0, 8),  yticks=np.arange(1, 8))\n",
        "plt.show()"
      ],
      "metadata": {
        "colab": {
          "base_uri": "https://localhost:8080/",
          "height": 430
        },
        "id": "vIlS7uMkxXkX",
        "outputId": "859943ae-26de-40dc-a381-63b823b356d6"
      },
      "execution_count": null,
      "outputs": [
        {
          "output_type": "display_data",
          "data": {
            "text/plain": [
              "<Figure size 640x480 with 1 Axes>"
            ],
            "image/png": "[encoded data removed]"
          },
          "metadata": {}
        }
      ]
    },
    {
      "cell_type": "code",
      "source": [
        "import matplotlib.pyplot as plt\n",
        "import numpy as np\n",
        "Temp=np.array([10,20,25,30,40,50,60,70,80,90,100,110,120])\n",
        "Res=np.array([18476,12185,10000,8260,5740,4080,2960,2188,1645,1257,973,765,608])\n",
        "\n",
        "plt.scatter(Temp,Res)\n",
        "plt.show()"
      ],
      "metadata": {
        "colab": {
          "base_uri": "https://localhost:8080/",
          "height": 430
        },
        "id": "Nsyn5od_xkTm",
        "outputId": "f781b1bf-4bc2-490f-9cfd-8b41b9f929b7"
      },
      "execution_count": null,
      "outputs": [
        {
          "output_type": "display_data",
          "data": {
            "text/plain": [
              "<Figure size 640x480 with 1 Axes>"
            ],
            "image/png": "[encoded data removed]"
          },
          "metadata": {}
        }
      ]
    },
    {
      "cell_type": "code",
      "source": [
        "import matplotlib.pyplot as plt\n",
        "import numpy as np\n",
        "Temp=np.array([10,20,25,30,40,50,60,70,80,90,100,110,120])\n",
        "Res=np.array([18476,12185,10000,8260,5740,4080,2960,2188,1645,1257,973,765,608])\n",
        "\n",
        "plt.plot(Temp,Res)\n",
        "plt.show()"
      ],
      "metadata": {
        "colab": {
          "base_uri": "https://localhost:8080/",
          "height": 430
        },
        "id": "By9Uk3G-xvJE",
        "outputId": "283dd882-92ca-4dba-f663-8db68a337196"
      },
      "execution_count": null,
      "outputs": [
        {
          "output_type": "display_data",
          "data": {
            "text/plain": [
              "<Figure size 640x480 with 1 Axes>"
            ],
            "image/png": "[encoded data removed]"
          },
          "metadata": {}
        }
      ]
    },
    {
      "cell_type": "code",
      "source": [
        "import matplotlib.pyplot as plt\n",
        "import numpy as np\n",
        "Temp=np.array([10,20,25,30,40,50,60,70,80,90,100,110,120])\n",
        "Res=np.array([18476,12185,10000,8260,5740,4080,2960,2188,1645,1257,973,765,608])\n",
        "\n",
        "plt.plot(Res,marker='*')\n",
        "plt.show()"
      ],
      "metadata": {
        "colab": {
          "base_uri": "https://localhost:8080/",
          "height": 430
        },
        "id": "nqT6Y1Wjx0_P",
        "outputId": "6c5d7a9d-3777-446a-8fe9-5c909a8d0586"
      },
      "execution_count": null,
      "outputs": [
        {
          "output_type": "display_data",
          "data": {
            "text/plain": [
              "<Figure size 640x480 with 1 Axes>"
            ],
            "image/png": "[encoded data removed]"
          },
          "metadata": {}
        }
      ]
    },
    {
      "cell_type": "code",
      "source": [
        "import matplotlib.pyplot as plt\n",
        "import numpy as np\n",
        "Temp=np.array([10,20,25,30,40,50,60,70,80,90,100,110,120])\n",
        "Res=np.array([18476,12185,10000,8260,5740,4080,2960,2188,1645,1257,973,765,608])\n",
        "\n",
        "plt.plot(Res, linestyle='dotted')\n",
        "plt.show()"
      ],
      "metadata": {
        "colab": {
          "base_uri": "https://localhost:8080/",
          "height": 430
        },
        "id": "SUpBHmbKB5wE",
        "outputId": "fb9797b4-5384-4b77-e839-cb0ba0c1dc16"
      },
      "execution_count": null,
      "outputs": [
        {
          "output_type": "display_data",
          "data": {
            "text/plain": [
              "<Figure size 640x480 with 1 Axes>"
            ],
            "image/png": "[encoded data removed]"
          },
          "metadata": {}
        }
      ]
    },
    {
      "cell_type": "code",
      "source": [
        "import matplotlib.pyplot as plt\n",
        "import numpy as np\n",
        "Temp=np.array([10,20,25,30,40,50,60,70,80,90,100,110,120])\n",
        "Res=np.array([18476,12185,10000,8260,5740,4080,2960,2188,1645,1257,973,765,608])\n",
        "plt.title(\"Thermistor characteristics\")\n",
        "plt.xlabel(\"Temp\")\n",
        "plt.ylabel(\"Res\")\n",
        "\n",
        "plt.plot(Temp,Res)\n",
        "plt.grid\n",
        "plt.show()"
      ],
      "metadata": {
        "colab": {
          "base_uri": "https://localhost:8080/",
          "height": 472
        },
        "id": "UnbKOz5jDsLY",
        "outputId": "d6f56a82-e901-4e52-aa8d-27c3908099e6"
      },
      "execution_count": null,
      "outputs": [
        {
          "output_type": "display_data",
          "data": {
            "text/plain": [
              "<Figure size 640x480 with 1 Axes>"
            ],
            "image/png": "[encoded data removed]"
          },
          "metadata": {}
        }
      ]
    },
    {
      "cell_type": "code",
      "source": [
        "import matplotlib.pyplot as plt\n",
        "import numpy as np\n",
        "\n",
        "x=np.array([\"karnataka\",\"AP\",\"TN\",\"TG\"])\n",
        "y=np.array([65,68,89,86])\n",
        "\n",
        "plt.bar(x,y)\n",
        "plt.show()\n",
        "plt.show()"
      ],
      "metadata": {
        "colab": {
          "base_uri": "https://localhost:8080/",
          "height": 430
        },
        "id": "iDWawfNxG0TG",
        "outputId": "4300e7de-fc86-46f7-80ac-4d347c26eb99"
      },
      "execution_count": null,
      "outputs": [
        {
          "output_type": "display_data",
          "data": {
            "text/plain": [
              "<Figure size 640x480 with 1 Axes>"
            ],
            "image/png": "[encoded data removed]"
          },
          "metadata": {}
        }
      ]
    },
    {
      "cell_type": "code",
      "source": [
        "import matplotlib.pyplot as plt\n",
        "import numpy as np\n",
        "\n",
        "x=np.random.normal(5,1,10000)\n",
        "\n",
        "plt.hist(x,100)\n",
        "plt.show()"
      ],
      "metadata": {
        "colab": {
          "base_uri": "https://localhost:8080/",
          "height": 430
        },
        "id": "269g8qwMHdml",
        "outputId": "ae488487-76d1-4269-e100-aef77d527fdc"
      },
      "execution_count": null,
      "outputs": [
        {
          "output_type": "display_data",
          "data": {
            "text/plain": [
              "<Figure size 640x480 with 1 Axes>"
            ],
            "image/png": "[encoded data removed]"
          },
          "metadata": {}
        }
      ]
    },
    {
      "cell_type": "code",
      "source": [
        "import pandas as pd\n",
        "print(pd.__version__)"
      ],
      "metadata": {
        "colab": {
          "base_uri": "https://localhost:8080/"
        },
        "id": "sqpmw3HiHFX9",
        "outputId": "0479b3c2-dc27-45e9-c1b5-4384763defd3"
      },
      "execution_count": null,
      "outputs": [
        {
          "output_type": "stream",
          "name": "stdout",
          "text": [
            "1.5.3\n"
          ]
        }
      ]
    },
    {
      "cell_type": "markdown",
      "source": [
        "#linear regressions\n",
        "\n",
        "1. scikit learn\n",
        "2. status models"
      ],
      "metadata": {
        "id": "x8x221gOzp6i"
      }
    },
    {
      "cell_type": "code",
      "source": [
        "import pandas as pd\n",
        "import numpy as np\n",
        "import matplotlib.pyplot as plt"
      ],
      "metadata": {
        "id": "169WAaFA0NSM"
      },
      "execution_count": null,
      "outputs": []
    },
    {
      "cell_type": "code",
      "source": [
        "x=np.array([1,5,13,25,33,46]).reshape((-1,1))\n",
        "y=np.array([3,6,9,2,18,15])"
      ],
      "metadata": {
        "id": "95UFP63Y04hS"
      },
      "execution_count": null,
      "outputs": []
    },
    {
      "cell_type": "code",
      "source": [
        "plt.scatter(x,y)\n",
        "plt.xlabel(\"IV\")\n",
        "plt.ylabel(\"DV\")\n",
        "plt.show()"
      ],
      "metadata": {
        "colab": {
          "base_uri": "https://localhost:8080/",
          "height": 449
        },
        "id": "ZtKnCwxh1Uw-",
        "outputId": "0e7866a8-5583-4bb7-c45d-0017ecc2d901"
      },
      "execution_count": null,
      "outputs": [
        {
          "output_type": "display_data",
          "data": {
            "text/plain": [
              "<Figure size 640x480 with 1 Axes>"
            ],
            "image/png": "[encoded data removed]"
          },
          "metadata": {}
        }
      ]
    },
    {
      "cell_type": "code",
      "source": [
        "from sklearn.linear_model import LinearRegression\n"
      ],
      "metadata": {
        "id": "XG_r5NcC3UzX"
      },
      "execution_count": null,
      "outputs": []
    },
    {
      "cell_type": "code",
      "source": [
        "SLR=LinearRegression()"
      ],
      "metadata": {
        "id": "u-tHKUPC3l4a"
      },
      "execution_count": null,
      "outputs": []
    },
    {
      "cell_type": "code",
      "source": [
        "SLR.fit(x,y)"
      ],
      "metadata": {
        "colab": {
          "base_uri": "https://localhost:8080/",
          "height": 74
        },
        "id": "1OzDNGyp4NR_",
        "outputId": "1e29d830-7fb5-4fe1-d6a3-a2d2a54479b8"
      },
      "execution_count": null,
      "outputs": [
        {
          "output_type": "execute_result",
          "data": {
            "text/plain": [
              "LinearRegression()"
            ],
            "text/html": [
              "<style>#sk-container-id-1 {color: black;background-color: white;}#sk-container-id-1 pre{padding: 0;}#sk-container-id-1 div.sk-toggleable {background-color: white;}#sk-container-id-1 label.sk-toggleable__label {cursor: pointer;display: block;width: 100%;margin-bottom: 0;padding: 0.3em;box-sizing: border-box;text-align: center;}#sk-container-id-1 label.sk-toggleable__label-arrow:before {content: \"▸\";float: left;margin-right: 0.25em;color: #696969;}#sk-container-id-1 label.sk-toggleable__label-arrow:hover:before {color: black;}#sk-container-id-1 div.sk-estimator:hover label.sk-toggleable__label-arrow:before {color: black;}#sk-container-id-1 div.sk-toggleable__content {max-height: 0;max-width: 0;overflow: hidden;text-align: left;background-color: #f0f8ff;}#sk-container-id-1 div.sk-toggleable__content pre {margin: 0.2em;color: black;border-radius: 0.25em;background-color: #f0f8ff;}#sk-container-id-1 input.sk-toggleable__control:checked~div.sk-toggleable__content {max-height: 200px;max-width: 100%;overflow: auto;}#sk-container-id-1 input.sk-toggleable__control:checked~label.sk-toggleable__label-arrow:before {content: \"▾\";}#sk-container-id-1 div.sk-estimator input.sk-toggleable__control:checked~label.sk-toggleable__label {background-color: #d4ebff;}#sk-container-id-1 div.sk-label input.sk-toggleable__control:checked~label.sk-toggleable__label {background-color: #d4ebff;}#sk-container-id-1 input.sk-hidden--visually {border: 0;clip: rect(1px 1px 1px 1px);clip: rect(1px, 1px, 1px, 1px);height: 1px;margin: -1px;overflow: hidden;padding: 0;position: absolute;width: 1px;}#sk-container-id-1 div.sk-estimator {font-family: monospace;background-color: #f0f8ff;border: 1px dotted black;border-radius: 0.25em;box-sizing: border-box;margin-bottom: 0.5em;}#sk-container-id-1 div.sk-estimator:hover {background-color: #d4ebff;}#sk-container-id-1 div.sk-parallel-item::after {content: \"\";width: 100%;border-bottom: 1px solid gray;flex-grow: 1;}#sk-container-id-1 div.sk-label:hover label.sk-toggleable__label {background-color: #d4ebff;}#sk-container-id-1 div.sk-serial::before {content: \"\";position: absolute;border-left: 1px solid gray;box-sizing: border-box;top: 0;bottom: 0;left: 50%;z-index: 0;}#sk-container-id-1 div.sk-serial {display: flex;flex-direction: column;align-items: center;background-color: white;padding-right: 0.2em;padding-left: 0.2em;position: relative;}#sk-container-id-1 div.sk-item {position: relative;z-index: 1;}#sk-container-id-1 div.sk-parallel {display: flex;align-items: stretch;justify-content: center;background-color: white;position: relative;}#sk-container-id-1 div.sk-item::before, #sk-container-id-1 div.sk-parallel-item::before {content: \"\";position: absolute;border-left: 1px solid gray;box-sizing: border-box;top: 0;bottom: 0;left: 50%;z-index: -1;}#sk-container-id-1 div.sk-parallel-item {display: flex;flex-direction: column;z-index: 1;position: relative;background-color: white;}#sk-container-id-1 div.sk-parallel-item:first-child::after {align-self: flex-end;width: 50%;}#sk-container-id-1 div.sk-parallel-item:last-child::after {align-self: flex-start;width: 50%;}#sk-container-id-1 div.sk-parallel-item:only-child::after {width: 0;}#sk-container-id-1 div.sk-dashed-wrapped {border: 1px dashed gray;margin: 0 0.4em 0.5em 0.4em;box-sizing: border-box;padding-bottom: 0.4em;background-color: white;}#sk-container-id-1 div.sk-label label {font-family: monospace;font-weight: bold;display: inline-block;line-height: 1.2em;}#sk-container-id-1 div.sk-label-container {text-align: center;}#sk-container-id-1 div.sk-container {/* jupyter's `normalize.less` sets `[hidden] { display: none; }` but bootstrap.min.css set `[hidden] { display: none !important; }` so we also need the `!important` here to be able to override the default hidden behavior on the sphinx rendered scikit-learn.org. See: https://github.com/scikit-learn/scikit-learn/issues/21755 */display: inline-block !important;position: relative;}#sk-container-id-1 div.sk-text-repr-fallback {display: none;}</style><div id=\"sk-container-id-1\" class=\"sk-top-container\"><div class=\"sk-text-repr-fallback\"><pre>LinearRegression()</pre><b>In a Jupyter environment, please rerun this cell to show the HTML representation or trust the notebook. <br />On GitHub, the HTML representation is unable to render, please try loading this page with nbviewer.org.</b></div><div class=\"sk-container\" hidden><div class=\"sk-item\"><div class=\"sk-estimator sk-toggleable\"><input class=\"sk-toggleable__control sk-hidden--visually\" id=\"sk-estimator-id-1\" type=\"checkbox\" checked><label for=\"sk-estimator-id-1\" class=\"sk-toggleable__label sk-toggleable__label-arrow\">LinearRegression</label><div class=\"sk-toggleable__content\"><pre>LinearRegression()</pre></div></div></div></div></div>"
            ]
          },
          "metadata": {},
          "execution_count": 18
        }
      ]
    },
    {
      "cell_type": "code",
      "source": [
        "pred=SLR.predict(x)"
      ],
      "metadata": {
        "id": "vCIYMAXF4d7S"
      },
      "execution_count": null,
      "outputs": []
    },
    {
      "cell_type": "code",
      "source": [
        "from sklearn.metrics import mean_squared_error\n",
        "\n",
        "mse=mean_squared_error(y,pred)\n",
        "plt.plot(x,pred,color='black',marker='*')\n",
        "\n",
        "print(\"MSE:\", mse)\n",
        "print(\"intercept:\", SLR.intercept_)\n",
        "print(\"slope:\",SLR.coef_)\n"
      ],
      "metadata": {
        "colab": {
          "base_uri": "https://localhost:8080/",
          "height": 482
        },
        "id": "5cUd_MsD5OTi",
        "outputId": "7ba4d747-f7cf-44d5-c45c-22027cee71af"
      },
      "execution_count": null,
      "outputs": [
        {
          "output_type": "stream",
          "name": "stdout",
          "text": [
            "MSE: 95.98998632819716\n",
            "intercept: 6.504932934264495\n",
            "slope: [0.50382441]\n"
          ]
        },
        {
          "output_type": "display_data",
          "data": {
            "text/plain": [
              "<Figure size 640x480 with 1 Axes>"
            ],
            "image/png": "[encoded data removed]"
          },
          "metadata": {}
        }
      ]
    },
    {
      "cell_type": "code",
      "source": [
        "x=np.random.normal([1,5,13,25,33,46]).reshape((-1,1))\n",
        "y=np.random.normal([3,6,9,2,18,15])"
      ],
      "metadata": {
        "id": "XRDmGQQO-pIN"
      },
      "execution_count": null,
      "outputs": []
    },
    {
      "cell_type": "code",
      "source": [
        "plt.scatter(x,y)\n",
        "plt.xlabel(\"IV\")\n",
        "plt.ylabel(\"DV\")\n",
        "plt.show()"
      ],
      "metadata": {
        "colab": {
          "base_uri": "https://localhost:8080/",
          "height": 449
        },
        "id": "LjL3xkFS_AF-",
        "outputId": "e1dc9cd3-d623-4813-f997-a756d2d7d6b8"
      },
      "execution_count": null,
      "outputs": [
        {
          "output_type": "display_data",
          "data": {
            "text/plain": [
              "<Figure size 640x480 with 1 Axes>"
            ],
            "image/png": "[encoded data removed]"
          },
          "metadata": {}
        }
      ]
    }
  ]
}